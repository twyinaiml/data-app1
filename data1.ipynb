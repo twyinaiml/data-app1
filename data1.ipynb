{
 "cells": [
  {
   "cell_type": "markdown",
   "metadata": {},
   "source": [
    "### Will a Customer Accept the Coupon?\n",
    "\n",
    "**Context**\n",
    "\n",
    "Imagine driving through town and a coupon is delivered to your cell phone for a restaraunt near where you are driving. Would you accept that coupon and take a short detour to the restaraunt? Would you accept the coupon but use it on a sunbsequent trip? Would you ignore the coupon entirely? What if the coupon was for a bar instead of a restaraunt? What about a coffee house? Would you accept a bar coupon with a minor passenger in the car? What about if it was just you and your partner in the car? Would weather impact the rate of acceptance? What about the time of day?\n",
    "\n",
    "Obviously, proximity to the business is a factor on whether the coupon is delivered to the driver or not, but what are the factors that determine whether a driver accepts the coupon once it is delivered to them? How would you determine whether a driver is likely to accept a coupon?\n",
    "\n",
    "**Overview**\n",
    "\n",
    "The goal of this project is to use what you know about visualizations and probability distributions to distinguish between customers who accepted a driving coupon versus those that did not.\n",
    "\n",
    "**Data**\n",
    "\n",
    "This data comes to us from the UCI Machine Learning repository and was collected via a survey on Amazon Mechanical Turk. The survey describes different driving scenarios including the destination, current time, weather, passenger, etc., and then ask the person whether he will accept the coupon if he is the driver. Answers that the user will drive there ‘right away’ or ‘later before the coupon expires’ are labeled as ‘Y = 1’ and answers ‘no, I do not want the coupon’ are labeled as ‘Y = 0’.  There are five different types of coupons -- less expensive restaurants (under \\\\$20), coffee houses, carry out & take away, bar, and more expensive restaurants (\\\\$20 - \\\\$50). "
   ]
  },
  {
   "cell_type": "markdown",
   "metadata": {},
   "source": [
    "**Deliverables**\n",
    "\n",
    "Your final product should be a brief report that highlights the differences between customers who did and did not accept the coupons.  To explore the data you will utilize your knowledge of plotting, statistical summaries, and visualization using Python. You will publish your findings in a public facing github repository as your first portfolio piece. \n",
    "\n",
    "\n",
    "\n"
   ]
  },
  {
   "cell_type": "markdown",
   "metadata": {},
   "source": [
    "### Data Description\n",
    "Keep in mind that these values mentioned below are average values.\n",
    "\n",
    "The attributes of this data set include:\n",
    "1. User attributes\n",
    "    -  Gender: male, female\n",
    "    -  Age: below 21, 21 to 25, 26 to 30, etc.\n",
    "    -  Marital Status: single, married partner, unmarried partner, or widowed\n",
    "    -  Number of children: 0, 1, or more than 1\n",
    "    -  Education: high school, bachelors degree, associates degree, or graduate degree\n",
    "    -  Occupation: architecture & engineering, business & financial, etc.\n",
    "    -  Annual income: less than \\\\$12500, \\\\$12500 - \\\\$24999, \\\\$25000 - \\\\$37499, etc.\n",
    "    -  Number of times that he/she goes to a bar: 0, less than 1, 1 to 3, 4 to 8 or greater than 8\n",
    "    -  Number of times that he/she buys takeaway food: 0, less than 1, 1 to 3, 4 to 8 or greater\n",
    "    than 8\n",
    "    -  Number of times that he/she goes to a coffee house: 0, less than 1, 1 to 3, 4 to 8 or\n",
    "    greater than 8\n",
    "    -  Number of times that he/she eats at a restaurant with average expense less than \\\\$20 per\n",
    "    person: 0, less than 1, 1 to 3, 4 to 8 or greater than 8\n",
    "    -  Number of times that he/she goes to a bar: 0, less than 1, 1 to 3, 4 to 8 or greater than 8\n",
    "    \n",
    "\n",
    "2. Contextual attributes\n",
    "    - Driving destination: home, work, or no urgent destination\n",
    "    - Location of user, coupon and destination: we provide a map to show the geographical\n",
    "    location of the user, destination, and the venue, and we mark the distance between each\n",
    "    two places with time of driving. The user can see whether the venue is in the same\n",
    "    direction as the destination.\n",
    "    - Weather: sunny, rainy, or snowy\n",
    "    - Temperature: 30F, 55F, or 80F\n",
    "    - Time: 10AM, 2PM, or 6PM\n",
    "    - Passenger: alone, partner, kid(s), or friend(s)\n",
    "\n",
    "\n",
    "3. Coupon attributes\n",
    "    - time before it expires: 2 hours or one day"
   ]
  },
  {
   "cell_type": "code",
   "execution_count": 1,
   "metadata": {},
   "outputs": [],
   "source": [
    "import matplotlib.pyplot as plt\n",
    "import seaborn as sns\n",
    "import pandas as pd\n",
    "import numpy as np"
   ]
  },
  {
   "cell_type": "markdown",
   "metadata": {},
   "source": [
    "### Problems\n",
    "\n",
    "Use the prompts below to get started with your data analysis.  \n",
    "\n",
    "1. Read in the `coupons.csv` file.\n",
    "\n",
    "\n"
   ]
  },
  {
   "cell_type": "code",
   "execution_count": 2,
   "metadata": {},
   "outputs": [],
   "source": [
    "data = pd.read_csv('data/coupons.csv')"
   ]
  },
  {
   "cell_type": "code",
   "execution_count": 3,
   "metadata": {},
   "outputs": [
    {
     "data": {
      "text/html": [
       "<div>\n",
       "<style scoped>\n",
       "    .dataframe tbody tr th:only-of-type {\n",
       "        vertical-align: middle;\n",
       "    }\n",
       "\n",
       "    .dataframe tbody tr th {\n",
       "        vertical-align: top;\n",
       "    }\n",
       "\n",
       "    .dataframe thead th {\n",
       "        text-align: right;\n",
       "    }\n",
       "</style>\n",
       "<table border=\"1\" class=\"dataframe\">\n",
       "  <thead>\n",
       "    <tr style=\"text-align: right;\">\n",
       "      <th></th>\n",
       "      <th>destination</th>\n",
       "      <th>passanger</th>\n",
       "      <th>weather</th>\n",
       "      <th>temperature</th>\n",
       "      <th>time</th>\n",
       "      <th>coupon</th>\n",
       "      <th>expiration</th>\n",
       "      <th>gender</th>\n",
       "      <th>age</th>\n",
       "      <th>maritalStatus</th>\n",
       "      <th>...</th>\n",
       "      <th>CoffeeHouse</th>\n",
       "      <th>CarryAway</th>\n",
       "      <th>RestaurantLessThan20</th>\n",
       "      <th>Restaurant20To50</th>\n",
       "      <th>toCoupon_GEQ5min</th>\n",
       "      <th>toCoupon_GEQ15min</th>\n",
       "      <th>toCoupon_GEQ25min</th>\n",
       "      <th>direction_same</th>\n",
       "      <th>direction_opp</th>\n",
       "      <th>Y</th>\n",
       "    </tr>\n",
       "  </thead>\n",
       "  <tbody>\n",
       "    <tr>\n",
       "      <th>0</th>\n",
       "      <td>No Urgent Place</td>\n",
       "      <td>Alone</td>\n",
       "      <td>Sunny</td>\n",
       "      <td>55</td>\n",
       "      <td>2PM</td>\n",
       "      <td>Restaurant(&lt;20)</td>\n",
       "      <td>1d</td>\n",
       "      <td>Female</td>\n",
       "      <td>21</td>\n",
       "      <td>Unmarried partner</td>\n",
       "      <td>...</td>\n",
       "      <td>never</td>\n",
       "      <td>NaN</td>\n",
       "      <td>4~8</td>\n",
       "      <td>1~3</td>\n",
       "      <td>1</td>\n",
       "      <td>0</td>\n",
       "      <td>0</td>\n",
       "      <td>0</td>\n",
       "      <td>1</td>\n",
       "      <td>1</td>\n",
       "    </tr>\n",
       "    <tr>\n",
       "      <th>1</th>\n",
       "      <td>No Urgent Place</td>\n",
       "      <td>Friend(s)</td>\n",
       "      <td>Sunny</td>\n",
       "      <td>80</td>\n",
       "      <td>10AM</td>\n",
       "      <td>Coffee House</td>\n",
       "      <td>2h</td>\n",
       "      <td>Female</td>\n",
       "      <td>21</td>\n",
       "      <td>Unmarried partner</td>\n",
       "      <td>...</td>\n",
       "      <td>never</td>\n",
       "      <td>NaN</td>\n",
       "      <td>4~8</td>\n",
       "      <td>1~3</td>\n",
       "      <td>1</td>\n",
       "      <td>0</td>\n",
       "      <td>0</td>\n",
       "      <td>0</td>\n",
       "      <td>1</td>\n",
       "      <td>0</td>\n",
       "    </tr>\n",
       "    <tr>\n",
       "      <th>2</th>\n",
       "      <td>No Urgent Place</td>\n",
       "      <td>Friend(s)</td>\n",
       "      <td>Sunny</td>\n",
       "      <td>80</td>\n",
       "      <td>10AM</td>\n",
       "      <td>Carry out &amp; Take away</td>\n",
       "      <td>2h</td>\n",
       "      <td>Female</td>\n",
       "      <td>21</td>\n",
       "      <td>Unmarried partner</td>\n",
       "      <td>...</td>\n",
       "      <td>never</td>\n",
       "      <td>NaN</td>\n",
       "      <td>4~8</td>\n",
       "      <td>1~3</td>\n",
       "      <td>1</td>\n",
       "      <td>1</td>\n",
       "      <td>0</td>\n",
       "      <td>0</td>\n",
       "      <td>1</td>\n",
       "      <td>1</td>\n",
       "    </tr>\n",
       "    <tr>\n",
       "      <th>3</th>\n",
       "      <td>No Urgent Place</td>\n",
       "      <td>Friend(s)</td>\n",
       "      <td>Sunny</td>\n",
       "      <td>80</td>\n",
       "      <td>2PM</td>\n",
       "      <td>Coffee House</td>\n",
       "      <td>2h</td>\n",
       "      <td>Female</td>\n",
       "      <td>21</td>\n",
       "      <td>Unmarried partner</td>\n",
       "      <td>...</td>\n",
       "      <td>never</td>\n",
       "      <td>NaN</td>\n",
       "      <td>4~8</td>\n",
       "      <td>1~3</td>\n",
       "      <td>1</td>\n",
       "      <td>1</td>\n",
       "      <td>0</td>\n",
       "      <td>0</td>\n",
       "      <td>1</td>\n",
       "      <td>0</td>\n",
       "    </tr>\n",
       "    <tr>\n",
       "      <th>4</th>\n",
       "      <td>No Urgent Place</td>\n",
       "      <td>Friend(s)</td>\n",
       "      <td>Sunny</td>\n",
       "      <td>80</td>\n",
       "      <td>2PM</td>\n",
       "      <td>Coffee House</td>\n",
       "      <td>1d</td>\n",
       "      <td>Female</td>\n",
       "      <td>21</td>\n",
       "      <td>Unmarried partner</td>\n",
       "      <td>...</td>\n",
       "      <td>never</td>\n",
       "      <td>NaN</td>\n",
       "      <td>4~8</td>\n",
       "      <td>1~3</td>\n",
       "      <td>1</td>\n",
       "      <td>1</td>\n",
       "      <td>0</td>\n",
       "      <td>0</td>\n",
       "      <td>1</td>\n",
       "      <td>0</td>\n",
       "    </tr>\n",
       "  </tbody>\n",
       "</table>\n",
       "<p>5 rows × 26 columns</p>\n",
       "</div>"
      ],
      "text/plain": [
       "       destination  passanger weather  temperature  time  \\\n",
       "0  No Urgent Place      Alone   Sunny           55   2PM   \n",
       "1  No Urgent Place  Friend(s)   Sunny           80  10AM   \n",
       "2  No Urgent Place  Friend(s)   Sunny           80  10AM   \n",
       "3  No Urgent Place  Friend(s)   Sunny           80   2PM   \n",
       "4  No Urgent Place  Friend(s)   Sunny           80   2PM   \n",
       "\n",
       "                  coupon expiration  gender age      maritalStatus  ...  \\\n",
       "0        Restaurant(<20)         1d  Female  21  Unmarried partner  ...   \n",
       "1           Coffee House         2h  Female  21  Unmarried partner  ...   \n",
       "2  Carry out & Take away         2h  Female  21  Unmarried partner  ...   \n",
       "3           Coffee House         2h  Female  21  Unmarried partner  ...   \n",
       "4           Coffee House         1d  Female  21  Unmarried partner  ...   \n",
       "\n",
       "   CoffeeHouse CarryAway RestaurantLessThan20 Restaurant20To50  \\\n",
       "0        never       NaN                  4~8              1~3   \n",
       "1        never       NaN                  4~8              1~3   \n",
       "2        never       NaN                  4~8              1~3   \n",
       "3        never       NaN                  4~8              1~3   \n",
       "4        never       NaN                  4~8              1~3   \n",
       "\n",
       "  toCoupon_GEQ5min toCoupon_GEQ15min toCoupon_GEQ25min direction_same  \\\n",
       "0                1                 0                 0              0   \n",
       "1                1                 0                 0              0   \n",
       "2                1                 1                 0              0   \n",
       "3                1                 1                 0              0   \n",
       "4                1                 1                 0              0   \n",
       "\n",
       "  direction_opp  Y  \n",
       "0             1  1  \n",
       "1             1  0  \n",
       "2             1  1  \n",
       "3             1  0  \n",
       "4             1  0  \n",
       "\n",
       "[5 rows x 26 columns]"
      ]
     },
     "execution_count": 3,
     "metadata": {},
     "output_type": "execute_result"
    }
   ],
   "source": [
    "data.head()"
   ]
  },
  {
   "cell_type": "markdown",
   "metadata": {},
   "source": [
    "2. Investigate the dataset for missing or problematic data."
   ]
  },
  {
   "cell_type": "code",
   "execution_count": 37,
   "metadata": {
    "scrolled": true
   },
   "outputs": [
    {
     "data": {
      "text/plain": [
       "Text(0.5, 1.0, 'The missing data in coupons dataset')"
      ]
     },
     "execution_count": 37,
     "metadata": {},
     "output_type": "execute_result"
    },
    {
     "data": {
      "image/png": "[encoded data removed]",
      "text/plain": [
       "<Figure size 640x480 with 1 Axes>"
      ]
     },
     "metadata": {},
     "output_type": "display_data"
    }
   ],
   "source": [
    "# handle missing or problematic data\n",
    "#data.info()\n",
    "missingvals = data.isnull().sum()\n",
    "df0 = missingvals.sort_values(ascending=False).to_frame().reset_index()\n",
    "df0.rename(columns={0:'missing_count'}, inplace=True)\n",
    "df0 = df0[df0['missing_count'] != 0]\n",
    "sns.barplot(df0, y='index', x='missing_count')\n",
    "plt.title('The missing data in coupons dataset')"
   ]
  },
  {
   "cell_type": "markdown",
   "metadata": {},
   "source": [
    "3. Decide what to do about your missing data -- drop, replace, other..."
   ]
  },
  {
   "cell_type": "code",
   "execution_count": 38,
   "metadata": {},
   "outputs": [
    {
     "name": "stdout",
     "output_type": "stream",
     "text": [
      "Before data cleanup, missing_count = 13370\n",
      "                  index  missing_count\n",
      "0                   car          12576\n",
      "1           CoffeeHouse            217\n",
      "2      Restaurant20To50            189\n",
      "3             CarryAway            151\n",
      "4  RestaurantLessThan20            130\n",
      "5                   Bar            107\n",
      "\n",
      "After data cleanup, missing_count = 0\n"
     ]
    }
   ],
   "source": [
    "# replace missing data with good values\n",
    "missingvals = data.isnull().sum()\n",
    "df0 = missingvals.sort_values(ascending=False).to_frame().reset_index()\n",
    "df0.rename(columns={0:'missing_count'}, inplace=True)\n",
    "df0 = df0[df0['missing_count'] != 0]\n",
    "print('Before data cleanup, missing_count = ' + str(df0['missing_count'].sum()))\n",
    "print(df0)\n",
    "# copy data\n",
    "data1 = data\n",
    "# rename column name from passanger to passenger\n",
    "data1 = data1.rename(columns={'passanger':'passenger'})\n",
    "# replace missing data\n",
    "data1['car'].fillna('auto', inplace=True)\n",
    "data1.fillna('never', inplace=True)\n",
    "# verify now data is clean\n",
    "missingvals1 = data1.isnull().sum()\n",
    "df1 = missingvals1.sort_values(ascending=False).to_frame().reset_index()\n",
    "df1.rename(columns={0:'missing_count'}, inplace=True)\n",
    "df1 = df1[df1['missing_count'] != 0]\n",
    "print('')\n",
    "print('After data cleanup, missing_count = ' + str(df1.shape[0]))\n"
   ]
  },
  {
   "cell_type": "markdown",
   "metadata": {},
   "source": [
    "4. What proportion of the total observations chose to accept the coupon? \n",
    "\n"
   ]
  },
  {
   "cell_type": "code",
   "execution_count": 39,
   "metadata": {},
   "outputs": [
    {
     "name": "stdout",
     "output_type": "stream",
     "text": [
      "Coupon accepted = 7210 out of 12684 (56.84326710816777%)\n"
     ]
    },
    {
     "data": {
      "text/plain": [
       "Text(0.5, 1.0, 'Overall Coupon Accepted Chart')"
      ]
     },
     "execution_count": 39,
     "metadata": {},
     "output_type": "execute_result"
    },
    {
     "data": {
      "image/png": "[encoded data removed]",
      "text/plain": [
       "<Figure size 640x480 with 1 Axes>"
      ]
     },
     "metadata": {},
     "output_type": "display_data"
    }
   ],
   "source": [
    "df3 = data1.query('Y == 1')\n",
    "print(\"Coupon accepted = \" + str(df3.shape[0]) + \" out of \" + str(data1.shape[0]) + \" (\" + str(df3.shape[0]/data1.shape[0]*100) + \"%)\")\n",
    "sns.countplot(data=data1, x='Y')\n",
    "plt.title('Overall Coupon Accepted Chart')"
   ]
  },
  {
   "cell_type": "markdown",
   "metadata": {},
   "source": [
    "5. Use a bar plot to visualize the `coupon` column."
   ]
  },
  {
   "cell_type": "code",
   "execution_count": 40,
   "metadata": {},
   "outputs": [
    {
     "data": {
      "text/plain": [
       "Text(0.5, 1.0, 'Different Types of Coupons Bar Chart')"
      ]
     },
     "execution_count": 40,
     "metadata": {},
     "output_type": "execute_result"
    },
    {
     "data": {
      "image/png": "[encoded data removed]",
      "text/plain": [
       "<Figure size 640x480 with 1 Axes>"
      ]
     },
     "metadata": {},
     "output_type": "display_data"
    }
   ],
   "source": [
    "sns.countplot(data=data1, y='coupon')\n",
    "plt.title('Different Types of Coupons Bar Chart')"
   ]
  },
  {
   "cell_type": "markdown",
   "metadata": {},
   "source": [
    "6. Use a histogram to visualize the temperature column."
   ]
  },
  {
   "cell_type": "code",
   "execution_count": 41,
   "metadata": {},
   "outputs": [
    {
     "name": "stderr",
     "output_type": "stream",
     "text": [
      "C:\\Users\\twyin\\anaconda3\\Lib\\site-packages\\seaborn\\_oldcore.py:1119: FutureWarning: use_inf_as_na option is deprecated and will be removed in a future version. Convert inf values to NaN before operating instead.\n",
      "  with pd.option_context('mode.use_inf_as_na', True):\n"
     ]
    },
    {
     "data": {
      "text/plain": [
       "Text(0.5, 1.0, 'The Temperature Column Histogram Chart')"
      ]
     },
     "execution_count": 41,
     "metadata": {},
     "output_type": "execute_result"
    },
    {
     "data": {
      "image/png": "[encoded data removed]",
      "text/plain": [
       "<Figure size 640x480 with 1 Axes>"
      ]
     },
     "metadata": {},
     "output_type": "display_data"
    }
   ],
   "source": [
    "sns.histplot(data=data1, x='temperature', hue='temperature')\n",
    "plt.title('The Temperature Column Histogram Chart')"
   ]
  },
  {
   "cell_type": "markdown",
   "metadata": {},
   "source": [
    "7. Use a histogram to visualize the weather column."
   ]
  },
  {
   "cell_type": "code",
   "execution_count": 42,
   "metadata": {},
   "outputs": [
    {
     "name": "stderr",
     "output_type": "stream",
     "text": [
      "C:\\Users\\twyin\\anaconda3\\Lib\\site-packages\\seaborn\\_oldcore.py:1119: FutureWarning: use_inf_as_na option is deprecated and will be removed in a future version. Convert inf values to NaN before operating instead.\n",
      "  with pd.option_context('mode.use_inf_as_na', True):\n"
     ]
    },
    {
     "data": {
      "text/plain": [
       "Text(0.5, 1.0, 'The Weather Column Histogram Chart')"
      ]
     },
     "execution_count": 42,
     "metadata": {},
     "output_type": "execute_result"
    },
    {
     "data": {
      "image/png": "[encoded data removed]",
      "text/plain": [
       "<Figure size 640x480 with 1 Axes>"
      ]
     },
     "metadata": {},
     "output_type": "display_data"
    }
   ],
   "source": [
    "sns.histplot(data=data1, x='weather', hue='weather')\n",
    "plt.title('The Weather Column Histogram Chart')"
   ]
  },
  {
   "cell_type": "markdown",
   "metadata": {},
   "source": [
    "**Investigating the Bar Coupons**\n",
    "\n",
    "Now, we will lead you through an exploration of just the bar related coupons.  \n",
    "\n",
    "1. Create a new `DataFrame` that contains just the bar coupons.\n"
   ]
  },
  {
   "cell_type": "code",
   "execution_count": 43,
   "metadata": {},
   "outputs": [
    {
     "name": "stdout",
     "output_type": "stream",
     "text": [
      "<class 'pandas.core.frame.DataFrame'>\n"
     ]
    },
    {
     "data": {
      "text/html": [
       "<div>\n",
       "<style scoped>\n",
       "    .dataframe tbody tr th:only-of-type {\n",
       "        vertical-align: middle;\n",
       "    }\n",
       "\n",
       "    .dataframe tbody tr th {\n",
       "        vertical-align: top;\n",
       "    }\n",
       "\n",
       "    .dataframe thead th {\n",
       "        text-align: right;\n",
       "    }\n",
       "</style>\n",
       "<table border=\"1\" class=\"dataframe\">\n",
       "  <thead>\n",
       "    <tr style=\"text-align: right;\">\n",
       "      <th></th>\n",
       "      <th>destination</th>\n",
       "      <th>passenger</th>\n",
       "      <th>weather</th>\n",
       "      <th>temperature</th>\n",
       "      <th>time</th>\n",
       "      <th>coupon</th>\n",
       "      <th>expiration</th>\n",
       "      <th>gender</th>\n",
       "      <th>age</th>\n",
       "      <th>maritalStatus</th>\n",
       "      <th>...</th>\n",
       "      <th>CoffeeHouse</th>\n",
       "      <th>CarryAway</th>\n",
       "      <th>RestaurantLessThan20</th>\n",
       "      <th>Restaurant20To50</th>\n",
       "      <th>toCoupon_GEQ5min</th>\n",
       "      <th>toCoupon_GEQ15min</th>\n",
       "      <th>toCoupon_GEQ25min</th>\n",
       "      <th>direction_same</th>\n",
       "      <th>direction_opp</th>\n",
       "      <th>Y</th>\n",
       "    </tr>\n",
       "  </thead>\n",
       "  <tbody>\n",
       "    <tr>\n",
       "      <th>9</th>\n",
       "      <td>No Urgent Place</td>\n",
       "      <td>Kid(s)</td>\n",
       "      <td>Sunny</td>\n",
       "      <td>80</td>\n",
       "      <td>10AM</td>\n",
       "      <td>Bar</td>\n",
       "      <td>1d</td>\n",
       "      <td>Female</td>\n",
       "      <td>21</td>\n",
       "      <td>Unmarried partner</td>\n",
       "      <td>...</td>\n",
       "      <td>never</td>\n",
       "      <td>never</td>\n",
       "      <td>4~8</td>\n",
       "      <td>1~3</td>\n",
       "      <td>1</td>\n",
       "      <td>1</td>\n",
       "      <td>0</td>\n",
       "      <td>0</td>\n",
       "      <td>1</td>\n",
       "      <td>0</td>\n",
       "    </tr>\n",
       "    <tr>\n",
       "      <th>13</th>\n",
       "      <td>Home</td>\n",
       "      <td>Alone</td>\n",
       "      <td>Sunny</td>\n",
       "      <td>55</td>\n",
       "      <td>6PM</td>\n",
       "      <td>Bar</td>\n",
       "      <td>1d</td>\n",
       "      <td>Female</td>\n",
       "      <td>21</td>\n",
       "      <td>Unmarried partner</td>\n",
       "      <td>...</td>\n",
       "      <td>never</td>\n",
       "      <td>never</td>\n",
       "      <td>4~8</td>\n",
       "      <td>1~3</td>\n",
       "      <td>1</td>\n",
       "      <td>0</td>\n",
       "      <td>0</td>\n",
       "      <td>1</td>\n",
       "      <td>0</td>\n",
       "      <td>1</td>\n",
       "    </tr>\n",
       "    <tr>\n",
       "      <th>17</th>\n",
       "      <td>Work</td>\n",
       "      <td>Alone</td>\n",
       "      <td>Sunny</td>\n",
       "      <td>55</td>\n",
       "      <td>7AM</td>\n",
       "      <td>Bar</td>\n",
       "      <td>1d</td>\n",
       "      <td>Female</td>\n",
       "      <td>21</td>\n",
       "      <td>Unmarried partner</td>\n",
       "      <td>...</td>\n",
       "      <td>never</td>\n",
       "      <td>never</td>\n",
       "      <td>4~8</td>\n",
       "      <td>1~3</td>\n",
       "      <td>1</td>\n",
       "      <td>1</td>\n",
       "      <td>1</td>\n",
       "      <td>0</td>\n",
       "      <td>1</td>\n",
       "      <td>0</td>\n",
       "    </tr>\n",
       "    <tr>\n",
       "      <th>24</th>\n",
       "      <td>No Urgent Place</td>\n",
       "      <td>Friend(s)</td>\n",
       "      <td>Sunny</td>\n",
       "      <td>80</td>\n",
       "      <td>10AM</td>\n",
       "      <td>Bar</td>\n",
       "      <td>1d</td>\n",
       "      <td>Male</td>\n",
       "      <td>21</td>\n",
       "      <td>Single</td>\n",
       "      <td>...</td>\n",
       "      <td>less1</td>\n",
       "      <td>4~8</td>\n",
       "      <td>4~8</td>\n",
       "      <td>less1</td>\n",
       "      <td>1</td>\n",
       "      <td>0</td>\n",
       "      <td>0</td>\n",
       "      <td>0</td>\n",
       "      <td>1</td>\n",
       "      <td>1</td>\n",
       "    </tr>\n",
       "    <tr>\n",
       "      <th>35</th>\n",
       "      <td>Home</td>\n",
       "      <td>Alone</td>\n",
       "      <td>Sunny</td>\n",
       "      <td>55</td>\n",
       "      <td>6PM</td>\n",
       "      <td>Bar</td>\n",
       "      <td>1d</td>\n",
       "      <td>Male</td>\n",
       "      <td>21</td>\n",
       "      <td>Single</td>\n",
       "      <td>...</td>\n",
       "      <td>less1</td>\n",
       "      <td>4~8</td>\n",
       "      <td>4~8</td>\n",
       "      <td>less1</td>\n",
       "      <td>1</td>\n",
       "      <td>0</td>\n",
       "      <td>0</td>\n",
       "      <td>1</td>\n",
       "      <td>0</td>\n",
       "      <td>1</td>\n",
       "    </tr>\n",
       "  </tbody>\n",
       "</table>\n",
       "<p>5 rows × 26 columns</p>\n",
       "</div>"
      ],
      "text/plain": [
       "        destination  passenger weather  temperature  time coupon expiration  \\\n",
       "9   No Urgent Place     Kid(s)   Sunny           80  10AM    Bar         1d   \n",
       "13             Home      Alone   Sunny           55   6PM    Bar         1d   \n",
       "17             Work      Alone   Sunny           55   7AM    Bar         1d   \n",
       "24  No Urgent Place  Friend(s)   Sunny           80  10AM    Bar         1d   \n",
       "35             Home      Alone   Sunny           55   6PM    Bar         1d   \n",
       "\n",
       "    gender age      maritalStatus  ...  CoffeeHouse CarryAway  \\\n",
       "9   Female  21  Unmarried partner  ...        never     never   \n",
       "13  Female  21  Unmarried partner  ...        never     never   \n",
       "17  Female  21  Unmarried partner  ...        never     never   \n",
       "24    Male  21             Single  ...        less1       4~8   \n",
       "35    Male  21             Single  ...        less1       4~8   \n",
       "\n",
       "   RestaurantLessThan20 Restaurant20To50 toCoupon_GEQ5min toCoupon_GEQ15min  \\\n",
       "9                   4~8              1~3                1                 1   \n",
       "13                  4~8              1~3                1                 0   \n",
       "17                  4~8              1~3                1                 1   \n",
       "24                  4~8            less1                1                 0   \n",
       "35                  4~8            less1                1                 0   \n",
       "\n",
       "   toCoupon_GEQ25min direction_same direction_opp  Y  \n",
       "9                  0              0             1  0  \n",
       "13                 0              1             0  1  \n",
       "17                 1              0             1  0  \n",
       "24                 0              0             1  1  \n",
       "35                 0              1             0  1  \n",
       "\n",
       "[5 rows x 26 columns]"
      ]
     },
     "execution_count": 43,
     "metadata": {},
     "output_type": "execute_result"
    }
   ],
   "source": [
    "dfbar = data1.query('coupon == \"Bar\"')\n",
    "print(type(dfbar))\n",
    "dfbar.head()"
   ]
  },
  {
   "cell_type": "markdown",
   "metadata": {},
   "source": [
    "2. What proportion of bar coupons were accepted?\n"
   ]
  },
  {
   "cell_type": "code",
   "execution_count": 44,
   "metadata": {},
   "outputs": [
    {
     "name": "stdout",
     "output_type": "stream",
     "text": [
      "Bar Coupon accepted = 827 out of 2017 (41.00148735746158%)\n"
     ]
    }
   ],
   "source": [
    "df5 = dfbar.query('Y == 1')\n",
    "print(\"Bar Coupon accepted = \" + str(df5.shape[0]) + \" out of \" + str(dfbar.shape[0]) + \" (\" +  str(df5.shape[0]/dfbar.shape[0]*100) + \"%)\")\n"
   ]
  },
  {
   "cell_type": "markdown",
   "metadata": {},
   "source": [
    "3. Compare the acceptance rate between those who went to a bar 3 or fewer times a month to those who went more.\n"
   ]
  },
  {
   "cell_type": "code",
   "execution_count": 46,
   "metadata": {},
   "outputs": [
    {
     "name": "stdout",
     "output_type": "stream",
     "text": [
      "Bar Coupon accepted = 674 out of 1818 (37.073707370737075%) when visited bar 3 or fewer times a month\n",
      "Bar Coupon accepted = 153 out of 199 (76.88442211055276%) when visited bar 4 or more times a month\n"
     ]
    }
   ],
   "source": [
    "# compute bar coupon accepted rates\n",
    "df6a = dfbar.query('Bar != \"4~8\" and Bar != \"gt8\"')\n",
    "df6b = df6a.query('Y == 1')\n",
    "print(\"Bar Coupon accepted = \" + str(df6b.shape[0]) + \" out of \" + str(df6a.shape[0]) + \" (\" +  str(df6b.shape[0]/df6a.shape[0]*100) + \"%) \" +\n",
    "      \"when visited bar 3 or fewer times a month\")\n",
    "df6c = dfbar.query('Bar == \"4~8\" or Bar == \"gt8\"')\n",
    "df6d = df6c.query('Y == 1')\n",
    "print(\"Bar Coupon accepted = \" + str(df6d.shape[0]) + \" out of \" + str(df6c.shape[0]) + \" (\" + str(df6d.shape[0]/df6c.shape[0]*100) + \"%) \" +\n",
    "      \"when visited bar 4 or more times a month\")"
   ]
  },
  {
   "cell_type": "markdown",
   "metadata": {},
   "source": [
    "4. Compare the acceptance rate between drivers who go to a bar more than once a month and are over the age of 25 to the all others.  Is there a difference?\n"
   ]
  },
  {
   "cell_type": "code",
   "execution_count": 50,
   "metadata": {},
   "outputs": [
    {
     "name": "stdout",
     "output_type": "stream",
     "text": [
      "Bar Coupon accepted = 292 out of 420 (69.52380952380952%) when visited bar more than once a month and age over 25\n"
     ]
    }
   ],
   "source": [
    "# compute bar coupon accepted rates \n",
    "df7a = dfbar.query('Bar == \"1~3\" or Bar == \"4~8\" or Bar == \"gt8\"')\n",
    "df7b = df7a.query('age != \"21\" and age != \"below21\"')\n",
    "df7c = df7b.query('Y == 1')\n",
    "print(\"Bar Coupon accepted = \" + str(df7c.shape[0]) + \" out of \" + str(df7b.shape[0]) + \" (\" + str(df7c.shape[0]/df7b.shape[0]*100) + \"%) \" +\n",
    "      \"when visited bar more than once a month and age over 25\")"
   ]
  },
  {
   "cell_type": "markdown",
   "metadata": {},
   "source": [
    "5. Use the same process to compare the acceptance rate between drivers who go to bars more than once a month and had passengers that were not a kid and had occupations other than farming, fishing, or forestry. \n"
   ]
  },
  {
   "cell_type": "code",
   "execution_count": 54,
   "metadata": {},
   "outputs": [
    {
     "name": "stdout",
     "output_type": "stream",
     "text": [
      "Bar Coupon accepted = 393 out of 551 (71.32486388384754%) when visited bar more than once a month and passengers not kids, occupations other than farming, fishing or forestry\n"
     ]
    }
   ],
   "source": [
    "# compute bar coupon accepted rates \n",
    "df8a = dfbar.query('Bar == \"1~3\" or Bar == \"4~8\" or Bar == \"gt8\"')\n",
    "df8b = df8a.query('passenger != \"Kid(s)\" and occupation != \"Farming Fishing & Forestry\"')\n",
    "df8c = df8b.query('Y == 1')\n",
    "print(\"Bar Coupon accepted = \" + str(df8c.shape[0]) + \" out of \" + str(df8b.shape[0]) + \" (\" + str(df8c.shape[0]/df8b.shape[0]*100) + \"%) \" +\n",
    "      \"when visited bar more than once a month and passengers not kids, occupations other than farming, fishing or forestry\")"
   ]
  },
  {
   "cell_type": "markdown",
   "metadata": {},
   "source": [
    "6. Compare the acceptance rates between those drivers who:\n",
    "\n",
    "- go to bars more than once a month, had passengers that were not a kid, and were not widowed *OR*\n",
    "- go to bars more than once a month and are under the age of 30 *OR*\n",
    "- go to cheap restaurants more than 4 times a month and income is less than 50K. \n",
    "\n"
   ]
  },
  {
   "cell_type": "code",
   "execution_count": 55,
   "metadata": {},
   "outputs": [
    {
     "name": "stdout",
     "output_type": "stream",
     "text": [
      "Bar Coupon accepted = 393 out of 551 (71.32486388384754% when visited bar more than once a month and passangers not kid, marital status not widowed\n"
     ]
    }
   ],
   "source": [
    "# compute bar coupon accepted rates\n",
    "df8a = dfbar.query('Bar == \"1~3\" or Bar == \"4~8\" or Bar == \"gt8\"')\n",
    "df8b = df8a.query('passenger != \"Kid(s)\" and maritalStatus != \"Widowed\"')\n",
    "df8c = df8b.query('Y == 1')\n",
    "print(\"Bar Coupon accepted = \" + str(df8c.shape[0]) + \" out of \" + str(df8b.shape[0]) + \" (\" + str(df8c.shape[0]/df8b.shape[0]*100) + \"% \" +\n",
    "      \"when visited bar more than once a month and passangers not kid, marital status not widowed\")"
   ]
  },
  {
   "cell_type": "code",
   "execution_count": 56,
   "metadata": {},
   "outputs": [
    {
     "name": "stdout",
     "output_type": "stream",
     "text": [
      "Bar Coupon accepted = 249 out of 345 (72.17391304347827%) when visited bar more than once a month and age under 30\n"
     ]
    }
   ],
   "source": [
    "# compute bar coupon accepted rates\n",
    "df8a = dfbar.query('Bar == \"1~3\" or Bar == \"4~8\" or Bar == \"gt8\"')\n",
    "df8b = df8a.query('age == \"26\" or age == \"21\" or age == \"below21\"')\n",
    "df8c = df8b.query('Y == 1')\n",
    "print(\"Bar Coupon accepted = \" + str(df8c.shape[0]) + \" out of \" + str(df8b.shape[0]) + \" (\" + str(df8c.shape[0]/df8b.shape[0]*100) + \"%) \" +\n",
    "      \"when visited bar more than once a month and age under 30\")"
   ]
  },
  {
   "cell_type": "code",
   "execution_count": 58,
   "metadata": {},
   "outputs": [
    {
     "name": "stdout",
     "output_type": "stream",
     "text": [
      "Restaurant(<20) Coupon accepted = 124 out of 271 (45.75645756457565%) when visited Restaurant(<20) more than 4 times a month and income under 50K\n"
     ]
    }
   ],
   "source": [
    "# compute restaurant(<20) coupon accepted rates\n",
    "df8a = dfbar.query('RestaurantLessThan20 == \"4~8\" or RestaurantLessThan20 == \"gt8\"')\n",
    "df8b = df8a.query('income == \"$12500 - $24999\" or income == \"$25000 - $37499\" or income == \"$37500 - $49999\"')\n",
    "df8c = df8b.query('Y == 1')\n",
    "print(\"Restaurant(<20) Coupon accepted = \" + str(df8c.shape[0]) + \" out of \" + str(df8b.shape[0]) + \" (\" +  str(df8c.shape[0]/df8b.shape[0]*100) + \"%) \" +\n",
    "      \"when visited Restaurant(<20) more than 4 times a month and income under 50K\")"
   ]
  },
  {
   "cell_type": "markdown",
   "metadata": {},
   "source": [
    "7.  Based on these observations, what do you hypothesize about drivers who accepted the bar coupons?"
   ]
  },
  {
   "cell_type": "code",
   "execution_count": 60,
   "metadata": {},
   "outputs": [
    {
     "name": "stdout",
     "output_type": "stream",
     "text": [
      "We can hypothesize that customers who accepted the bar coupons are those who visited bars more than 4 times a month and age under 30 or with adult passengers.\n"
     ]
    }
   ],
   "source": [
    "print(\"We can hypothesize that customers who accepted the bar coupons are those who visited bars more than 4 times a month and age under 30 or with adult passengers.\")"
   ]
  },
  {
   "cell_type": "markdown",
   "metadata": {},
   "source": [
    "### Independent Investigation\n",
    "\n",
    "Using the bar coupon example as motivation, you are to explore one of the other coupon groups and try to determine the characteristics of passengers who accept the coupons.  "
   ]
  },
  {
   "cell_type": "code",
   "execution_count": 36,
   "metadata": {},
   "outputs": [
    {
     "name": "stdout",
     "output_type": "stream",
     "text": [
      "                  coupon  count     Y  Accepted Ratio\n",
      "0                    Bar   2017   827        0.410015\n",
      "1  Carry out & Take away   2393  1760        0.735478\n",
      "2           Coffee House   3996  1995        0.499249\n",
      "3      Restaurant(20-50)   1492   658        0.441019\n",
      "4        Restaurant(<20)   2786  1970        0.707107\n",
      "\n",
      "Coupon accepted ratio mean = 0.55857366637301\n",
      "Coupon accepted ratio std = 0.15228731794298583\n"
     ]
    },
    {
     "data": {
      "text/plain": [
       "Text(0.5, 1.0, 'Coupon Type Accepted Ratio Chart')"
      ]
     },
     "execution_count": 36,
     "metadata": {},
     "output_type": "execute_result"
    },
    {
     "data": {
      "image/png": "[encoded data removed]",
      "text/plain": [
       "<Figure size 640x480 with 1 Axes>"
      ]
     },
     "metadata": {},
     "output_type": "display_data"
    }
   ],
   "source": [
    "# compute coupon accepted rates vs coupon type\n",
    "df5 = data1.groupby('coupon').sum()[['Y']].reset_index()\n",
    "df6 = data1.groupby('coupon').count()[['Y']].reset_index()\n",
    "df6.rename(columns={'Y':'count'}, inplace=True)\n",
    "df6['Y'] = df5['Y']\n",
    "df6['Accepted Ratio'] = df6['Y'] / df6['count']\n",
    "print(df6)\n",
    "print('')\n",
    "print('Coupon accepted ratio mean = ' + str(df6['Accepted Ratio'].mean()))\n",
    "print('Coupon accepted ratio std = ' + str(df6['Accepted Ratio'].std()))\n",
    "sns.barplot(data=df6, y='coupon', x='Accepted Ratio')\n",
    "plt.title('Coupon Type Accepted Ratio Chart')"
   ]
  },
  {
   "cell_type": "markdown",
   "metadata": {},
   "source": [
    "1. Use a bar chart to visualize the coupon accepted rates vs time."
   ]
  },
  {
   "cell_type": "code",
   "execution_count": 35,
   "metadata": {},
   "outputs": [
    {
     "name": "stdout",
     "output_type": "stream",
     "text": [
      "   time  count     Y  Accepted Ratio\n",
      "0  10AM   2275  1384        0.608352\n",
      "1  10PM   2006  1020        0.508475\n",
      "2   2PM   2009  1329        0.661523\n",
      "3   6PM   3230  1888        0.584520\n",
      "4   7AM   3164  1589        0.502212\n",
      "\n",
      "Coupon accepted ratio mean = 0.5730163767372156\n",
      "Coupon accepted ratio std = 0.06781079270315157\n"
     ]
    },
    {
     "data": {
      "text/plain": [
       "Text(0.5, 1.0, 'Coupon Accepted Time Chart')"
      ]
     },
     "execution_count": 35,
     "metadata": {},
     "output_type": "execute_result"
    },
    {
     "data": {
      "image/png": "[encoded data removed]",
      "text/plain": [
       "<Figure size 640x480 with 1 Axes>"
      ]
     },
     "metadata": {},
     "output_type": "display_data"
    }
   ],
   "source": [
    "# compute coupon accepted rates vs time\n",
    "df5 = data1.groupby('time').sum()[['Y']].reset_index()\n",
    "df6 = data1.groupby('time').count()[['Y']].reset_index()\n",
    "df6.rename(columns={'Y':'count'}, inplace=True)\n",
    "df6['Y'] = df5['Y']\n",
    "df6['Accepted Ratio'] = df6['Y'] / df6['count']\n",
    "print(df6)\n",
    "print('')\n",
    "print('Coupon accepted ratio mean = ' + str(df6['Accepted Ratio'].mean()))\n",
    "print('Coupon accepted ratio std = ' + str(df6['Accepted Ratio'].std()))\n",
    "sns.barplot(data=df6, y='time', x='Accepted Ratio')\n",
    "plt.title('Coupon Accepted Time Chart')"
   ]
  },
  {
   "cell_type": "markdown",
   "metadata": {},
   "source": [
    "2. Compare the acceptance rates between those drivers who:\n",
    "\n",
    "- go to take out restaurants more than once a month, had passengers that were not a kid, and were not widowed *OR*\n",
    "- go to take out restaurants more than once a month and are under the age of 30 "
   ]
  },
  {
   "cell_type": "code",
   "execution_count": 34,
   "metadata": {},
   "outputs": [
    {
     "name": "stdout",
     "output_type": "stream",
     "text": [
      "CarryAway Coupon accepted = 565 out of 746 (75.73726541554959%) when more than once a month and passengers are Kid(s) or Friend(s)\n",
      "CarryAway Coupon accepted = 672 out of 913 (73.60350492880613%) when more than once a month and age uder 30\n"
     ]
    }
   ],
   "source": [
    "# compute take out restaurant coupon accepted rates\n",
    "dfcca = data1.query('coupon == \"Carry out & Take away\"')\n",
    "df8a = dfcca.query('CarryAway == \"1~3\" or CarryAway == \"4~8\" or CarryAway == \"gt8\"')\n",
    "df8b = df8a.query('passenger == \"Kid(s)\" or passenger == \"Friend(s)\"')\n",
    "df8c = df8b.query('Y == 1')\n",
    "print(\"CarryAway Coupon accepted = \" + str(df8c.shape[0]) + \" out of \" + str(df8b.shape[0]) + \" (\" + str(df8c.shape[0]/df8b.shape[0] * 100) + \"%) \" +\n",
    "      \"when more than once a month and passengers are Kid(s) or Friend(s)\")\n",
    "df8b = df8a.query('age == \"26\" or age == \"21\" or age == \"below21\"')\n",
    "df8c = df8b.query('Y == 1')\n",
    "print(\"CarryAway Coupon accepted = \" + str(df8c.shape[0]) + \" out of \" + str(df8b.shape[0]) + \" (\" + str(df8c.shape[0]/df8b.shape[0] * 100) + \"%) \" +\n",
    "      \"when more than once a month and age uder 30\")"
   ]
  },
  {
   "cell_type": "markdown",
   "metadata": {},
   "source": [
    "1. Compare the acceptance rates between those drivers who:\n",
    "\n",
    "- go to cheap restaurants more than once a month, had passengers that were not a kid, and were not widowed *OR*\n",
    "- go to cheap restaurants more than once a month and are under the age of 30 \n"
   ]
  },
  {
   "cell_type": "code",
   "execution_count": 33,
   "metadata": {},
   "outputs": [
    {
     "name": "stdout",
     "output_type": "stream",
     "text": [
      "Restaurant(<20) Coupon accepted = 690 out of 872 (79.12844036697247%) when more than once a month and passengers are Kid(s) or Friend(s)\n",
      "Restaurant(<20) Coupon accepted = 750 out of 1000 (75.0%) when more than once a month and age uder 30\n"
     ]
    }
   ],
   "source": [
    "# compute restaurant(<20) coupon accepted rates\n",
    "dfcrt = data1.query('coupon == \"Restaurant(<20)\"')\n",
    "df8a = dfcrt.query('RestaurantLessThan20 == \"1~3\" or RestaurantLessThan20 == \"4~8\" or RestaurantLessThan20 == \"gt8\"')\n",
    "df8b = df8a.query('passenger == \"Kid(s)\" or passenger == \"Friend(s)\"')\n",
    "df8c = df8b.query('Y == 1')\n",
    "print(\"Restaurant(<20) Coupon accepted = \" + str(df8c.shape[0]) + \" out of \" + str(df8b.shape[0]) + \" (\" + str(df8c.shape[0]/df8b.shape[0] * 100) + \"%) \" +\n",
    "      \"when more than once a month and passengers are Kid(s) or Friend(s)\")\n",
    "df8b = df8a.query('age == \"26\" or age == \"21\" or age == \"below21\"')\n",
    "df8c = df8b.query('Y == 1')\n",
    "print(\"Restaurant(<20) Coupon accepted = \" + str(df8c.shape[0]) + \" out of \" + str(df8b.shape[0]) + \" (\" + str(df8c.shape[0]/df8b.shape[0] * 100) + \"%) \" +\n",
    "      \"when more than once a month and age uder 30\")"
   ]
  },
  {
   "cell_type": "markdown",
   "metadata": {},
   "source": [
    "# Summary"
   ]
  },
  {
   "cell_type": "markdown",
   "metadata": {},
   "source": [
    "In general, the average coupon acceptance ratio is low while customers are driving in different scenarios. However, we see coupon acceptance ratio increases to more than 70% when we target a special group of customers. For instance, customers who visited bars more often and age under 30 have a higher ratio to accept bar coupons. This indicates that we should associate coupon types with customer shopping bahaviors and their characteristics in order to improve acceptance ratio."
   ]
  },
  {
   "cell_type": "code",
   "execution_count": null,
   "metadata": {},
   "outputs": [],
   "source": []
  }
 ],
 "metadata": {
  "kernelspec": {
   "display_name": "Python 3 (ipykernel)",
   "language": "python",
   "name": "python3"
  },
  "language_info": {
   "codemirror_mode": {
    "name": "ipython",
    "version": 3
   },
   "file_extension": ".py",
   "mimetype": "text/x-python",
   "name": "python",
   "nbconvert_exporter": "python",
   "pygments_lexer": "ipython3",
   "version": "3.11.7"
  },
  "widgets": {
   "application/vnd.jupyter.widget-state+json": {
    "state": {},
    "version_major": 2,
    "version_minor": 0
   }
  }
 },
 "nbformat": 4,
 "nbformat_minor": 4
}
